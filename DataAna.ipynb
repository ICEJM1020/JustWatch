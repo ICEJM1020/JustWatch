{
 "cells": [
  {
   "cell_type": "code",
   "execution_count": 8,
   "metadata": {},
   "outputs": [
    {
     "data": {
      "text/plain": [
       "['24071616_AD',\n",
       " '24071008_AD',\n",
       " '24072023_AD',\n",
       " '24071617_AD',\n",
       " '24071009_AD',\n",
       " '24070901_AD',\n",
       " '24071618_AD',\n",
       " '24070905_AD',\n",
       " '24071619_AD',\n",
       " '24072825_AD',\n",
       " '24070904_AD',\n",
       " '24070907_AD',\n",
       " '24071010_AD',\n",
       " '24071011_AD',\n",
       " '24070902_AD',\n",
       " '24072926_AD',\n",
       " '24070906_AD',\n",
       " '24071513_AD',\n",
       " '24071721_AD',\n",
       " '24071512_AD',\n",
       " '24071615_AD',\n",
       " 'Test_AD']"
      ]
     },
     "execution_count": 8,
     "metadata": {},
     "output_type": "execute_result"
    }
   ],
   "source": [
    "import os\n",
    "\n",
    "people_list = os.listdir(\"output\")\n",
    "people_list = list(filter(lambda x: \".\" not in x, people_list))\n",
    "people_list"
   ]
  },
  {
   "cell_type": "code",
   "execution_count": 9,
   "metadata": {},
   "outputs": [],
   "source": [
    "import pandas as pd\n",
    "\n",
    "people_fea = {}\n",
    "for _p in people_list:\n",
    "    people_fea[_p] = pd.read_csv(os.path.join(f\"output/{_p}\", \"features.csv\"), index_col=0)"
   ]
  },
  {
   "cell_type": "code",
   "execution_count": 10,
   "metadata": {},
   "outputs": [],
   "source": [
    "whole_fea_list = [\"Player1AttentionRatio\",\"Player2AttentionRatio\",\"Player1MinToCircle\",\"Player2MinToCircle\",\"MatchRoundRatio\",]\n",
    "saccade_fea_list = [\"SaccadeSpeed_Mean\",\"SaccadeSpeed_Max\",\"SaccadeSpeed_Std\",\"SaccadeAngel_Mean\",\"SaccadeAngel_Max\",\"SaccadeAngel_Std\",\"SaccadeDelay\",\"SaccadeDelayPercent\",\"TrajectoryDTW\"]"
   ]
  },
  {
   "cell_type": "code",
   "execution_count": 11,
   "metadata": {},
   "outputs": [],
   "source": [
    "\"\"\" \n",
    "video_type: \n",
    "    [] => all\n",
    "    p => pingpang\n",
    "    w => tennis\n",
    "    1 => first watch\n",
    "    2 => mutiple watch\n",
    "    N => no label\n",
    "    R_S => random shining\n",
    "    A_S => all shining\n",
    "    R_A => random arrow\n",
    "    A_A => all arrow\n",
    "\"\"\" \n",
    "def StatsFeatures(all_people_fea:dict, fea_list:list, video_types:list[str]):\n",
    "    \n",
    "    res={}\n",
    "    for _p in people_list:\n",
    "        video_list = all_people_fea[_p].index.to_list()\n",
    "        _label_video_list = []\n",
    "        for _v_t in video_types:\n",
    "            if _v_t==\"p\":\n",
    "                _v_ids = list(filter(lambda x:x.startswith(\"p\"), all_people_fea[_p].index))\n",
    "            elif _v_t==\"w\":\n",
    "                _v_ids = list(filter(lambda x:x.startswith(\"w\"), all_people_fea[_p].index))\n",
    "            elif _v_t==\"1\":\n",
    "                _v_ids = list(filter(lambda x: not ((x.split(\"-\")[0].endswith(\"_2\")) or (x.split(\"-\")[0].endswith(\"_3\")) or (x.split(\"-\")[0].endswith(\"_4\"))), all_people_fea[_p].index))\n",
    "            elif _v_t==\"2\":\n",
    "                _v_ids = list(filter(lambda x: (x.split(\"-\")[0].endswith(\"_2\")) or (x.split(\"-\")[0].endswith(\"_3\")) or (x.split(\"-\")[0].endswith(\"_4\")), all_people_fea[_p].index))\n",
    "            elif _v_t==\"N_L\":\n",
    "                _v_ids = list(filter(lambda x: not ((\"_S\" in x.split(\"-\")[0]) or (\"_A\" in x.split(\"-\")[0])), all_people_fea[_p].index))\n",
    "            elif _v_t==\"R_S\":\n",
    "                _label_video_list += list(filter(lambda x: \"R_S\" in x.split(\"-\")[0], all_people_fea[_p].index))\n",
    "            elif _v_t==\"A_S\":\n",
    "                _label_video_list += list(filter(lambda x: \"A_S\" in x.split(\"-\")[0], all_people_fea[_p].index))\n",
    "            elif _v_t==\"R_A\":\n",
    "                _label_video_list += list(filter(lambda x: \"R_A\" in x.split(\"-\")[0], all_people_fea[_p].index))\n",
    "            elif _v_t==\"A_A\":\n",
    "                _label_video_list += list(filter(lambda x: \"A_A\" in x.split(\"-\")[0], all_people_fea[_p].index))\n",
    "            else:\n",
    "                _v_ids = list(all_people_fea[_p].index)\n",
    "            \n",
    "            video_list = list(set(video_list).intersection(set(_v_ids)))\n",
    "        if _label_video_list:\n",
    "            video_list = list(set(video_list).intersection(set(_label_video_list)))\n",
    "\n",
    "        temp_df = all_people_fea[_p].loc[video_list, fea_list].dropna()\n",
    "\n",
    "        mean_val = temp_df.mean()\n",
    "        mean_val.index = [i+\"_Mean\" for i in mean_val.index]\n",
    "        std_val = temp_df.std()\n",
    "        std_val.index = [i+\"_Std\" for i in std_val.index]\n",
    "        max_val = temp_df.max()\n",
    "        max_val.index = [i+\"_Max\" for i in max_val.index]\n",
    "        min_val = temp_df.min()\n",
    "        min_val.index = [i+\"_Min\" for i in min_val.index]\n",
    "\n",
    "        res[_p] = {\n",
    "            **mean_val.to_dict(),\n",
    "            **std_val.to_dict(),\n",
    "            **max_val.to_dict(),\n",
    "            **min_val.to_dict(),\n",
    "        }\n",
    "\n",
    "    return pd.DataFrame(res).T"
   ]
  },
  {
   "cell_type": "code",
   "execution_count": 12,
   "metadata": {},
   "outputs": [
    {
     "data": {
      "text/plain": [
       "Player1AttentionRatio_Mean    0.216087\n",
       "Player2AttentionRatio_Mean    0.080800\n",
       "Player1MinToCircle_Mean       0.048747\n",
       "Player2MinToCircle_Mean       0.052019\n",
       "MatchRoundRatio_Mean          0.180373\n",
       "Player1AttentionRatio_Std     0.114137\n",
       "Player2AttentionRatio_Std     0.074169\n",
       "Player1MinToCircle_Std        0.039664\n",
       "Player2MinToCircle_Std        0.044758\n",
       "MatchRoundRatio_Std           0.130243\n",
       "Player1AttentionRatio_Max     0.400267\n",
       "Player2AttentionRatio_Max     0.231563\n",
       "Player1MinToCircle_Max        0.114105\n",
       "Player2MinToCircle_Max        0.127320\n",
       "MatchRoundRatio_Max           0.406468\n",
       "Player1AttentionRatio_Min     0.088908\n",
       "Player2AttentionRatio_Min     0.013141\n",
       "Player1MinToCircle_Min        0.006100\n",
       "Player2MinToCircle_Min        0.007754\n",
       "MatchRoundRatio_Min           0.035261\n",
       "dtype: float64"
      ]
     },
     "execution_count": 12,
     "metadata": {},
     "output_type": "execute_result"
    }
   ],
   "source": [
    "StatsFeatures(\n",
    "        all_people_fea=people_fea, \n",
    "        fea_list=whole_fea_list, \n",
    "        video_types=[\"p\", \"1\", \"N_L\"]\n",
    "    ).mean()"
   ]
  },
  {
   "cell_type": "code",
   "execution_count": 13,
   "metadata": {},
   "outputs": [
    {
     "data": {
      "text/plain": [
       "Player1AttentionRatio_Mean    0.216283\n",
       "Player2AttentionRatio_Mean    0.069184\n",
       "Player1MinToCircle_Mean       0.050127\n",
       "Player2MinToCircle_Mean       0.055897\n",
       "MatchRoundRatio_Mean          0.182093\n",
       "Player1AttentionRatio_Std     0.123510\n",
       "Player2AttentionRatio_Std     0.053142\n",
       "Player1MinToCircle_Std        0.043847\n",
       "Player2MinToCircle_Std        0.045915\n",
       "MatchRoundRatio_Std           0.126871\n",
       "Player1AttentionRatio_Max     0.394046\n",
       "Player2AttentionRatio_Max     0.157172\n",
       "Player1MinToCircle_Max        0.126159\n",
       "Player2MinToCircle_Max        0.131524\n",
       "MatchRoundRatio_Max           0.384708\n",
       "Player1AttentionRatio_Min     0.069379\n",
       "Player2AttentionRatio_Min     0.014343\n",
       "Player1MinToCircle_Min        0.009557\n",
       "Player2MinToCircle_Min        0.012703\n",
       "MatchRoundRatio_Min           0.037109\n",
       "dtype: float64"
      ]
     },
     "execution_count": 13,
     "metadata": {},
     "output_type": "execute_result"
    }
   ],
   "source": [
    "StatsFeatures(\n",
    "        all_people_fea=people_fea, \n",
    "        fea_list=whole_fea_list, \n",
    "        video_types=[\"p\", \"1\", \"R_S\", \"A_S\"]\n",
    "    ).mean()"
   ]
  },
  {
   "cell_type": "code",
   "execution_count": 14,
   "metadata": {},
   "outputs": [
    {
     "data": {
      "text/plain": [
       "Player1AttentionRatio_Mean    0.203994\n",
       "Player2AttentionRatio_Mean    0.070227\n",
       "Player1MinToCircle_Mean       0.055636\n",
       "Player2MinToCircle_Mean       0.053358\n",
       "MatchRoundRatio_Mean          0.171666\n",
       "Player1AttentionRatio_Std     0.091796\n",
       "Player2AttentionRatio_Std     0.052573\n",
       "Player1MinToCircle_Std        0.034542\n",
       "Player2MinToCircle_Std        0.033766\n",
       "MatchRoundRatio_Std           0.097462\n",
       "Player1AttentionRatio_Max     0.316904\n",
       "Player2AttentionRatio_Max     0.138803\n",
       "Player1MinToCircle_Max        0.096803\n",
       "Player2MinToCircle_Max        0.096851\n",
       "MatchRoundRatio_Max           0.283354\n",
       "Player1AttentionRatio_Min     0.115381\n",
       "Player2AttentionRatio_Min     0.024748\n",
       "Player1MinToCircle_Min        0.021781\n",
       "Player2MinToCircle_Min        0.022266\n",
       "MatchRoundRatio_Min           0.066797\n",
       "dtype: float64"
      ]
     },
     "execution_count": 14,
     "metadata": {},
     "output_type": "execute_result"
    }
   ],
   "source": [
    "StatsFeatures(\n",
    "        all_people_fea=people_fea, \n",
    "        fea_list=whole_fea_list, \n",
    "        video_types=[\"p\", \"1\", \"R_A\", \"A_A\"]\n",
    "    ).mean()"
   ]
  },
  {
   "cell_type": "code",
   "execution_count": null,
   "metadata": {},
   "outputs": [],
   "source": []
  }
 ],
 "metadata": {
  "kernelspec": {
   "display_name": "base",
   "language": "python",
   "name": "python3"
  },
  "language_info": {
   "codemirror_mode": {
    "name": "ipython",
    "version": 3
   },
   "file_extension": ".py",
   "mimetype": "text/x-python",
   "name": "python",
   "nbconvert_exporter": "python",
   "pygments_lexer": "ipython3",
   "version": "3.11.9"
  }
 },
 "nbformat": 4,
 "nbformat_minor": 2
}
