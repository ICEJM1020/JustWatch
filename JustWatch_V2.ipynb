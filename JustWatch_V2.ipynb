{
 "cells": [
  {
   "cell_type": "code",
   "execution_count": 1,
   "metadata": {},
   "outputs": [],
   "source": [
    "import numpy as np\n",
    "import pandas as pd\n",
    "import warnings\n",
    "warnings.filterwarnings(\"ignore\")\n",
    "\n",
    "from config import *\n",
    "from load_data import fetch_data, fetch_trajectory\n",
    "from match_rounds import find_match_round_dtw, find_match_round_dtw_kmp\n",
    "from utils import compute_stat, interplate_and_align"
   ]
  },
  {
   "cell_type": "markdown",
   "metadata": {},
   "source": [
    "# DataLoader"
   ]
  },
  {
   "cell_type": "code",
   "execution_count": 2,
   "metadata": {},
   "outputs": [
    {
     "data": {
      "text/plain": [
       "['24071512_AD.csv',\n",
       " '24070902_AD.csv',\n",
       " '24071009_AD.csv',\n",
       " '24072825_AD.csv',\n",
       " '24070904_AD.csv',\n",
       " '24071617_AD.csv',\n",
       " '24071721_AD.csv',\n",
       " '24071619_AD.csv',\n",
       " '24071615_AD.csv',\n",
       " '24071011_AD.csv',\n",
       " '24070906_AD.csv',\n",
       " 'Test_AD.csv',\n",
       " '24071513_AD.csv',\n",
       " '24072926_AD.csv',\n",
       " '24071008_AD.csv',\n",
       " '24070901_AD.csv',\n",
       " '24072023_AD.csv',\n",
       " '24071616_AD.csv',\n",
       " '24070905_AD.csv',\n",
       " '24070907_AD.csv',\n",
       " '24071010_AD.csv',\n",
       " '24071618_AD.csv']"
      ]
     },
     "execution_count": 2,
     "metadata": {},
     "output_type": "execute_result"
    }
   ],
   "source": [
    "import os\n",
    "\n",
    "file_list = os.listdir(DATA_DIR)\n",
    "file_list = list(filter(lambda x: \"AD\" in x, file_list))\n",
    "file_list"
   ]
  },
  {
   "cell_type": "code",
   "execution_count": 3,
   "metadata": {},
   "outputs": [],
   "source": [
    "drop_list = ['pingpang.csv', 'tennis.csv', '.DS_Store', 'ControlGroupInfo.xlsx',]"
   ]
  },
  {
   "cell_type": "code",
   "execution_count": 4,
   "metadata": {},
   "outputs": [],
   "source": [
    "all_data = fetch_data(DATA_DIR, file_list, drop_list)\n",
    "ball_data = fetch_trajectory(DATA_DIR)"
   ]
  },
  {
   "cell_type": "markdown",
   "metadata": {},
   "source": [
    "# Feature Extraction"
   ]
  },
  {
   "cell_type": "markdown",
   "metadata": {},
   "source": [
    "## Saccade Feature"
   ]
  },
  {
   "cell_type": "code",
   "execution_count": 5,
   "metadata": {},
   "outputs": [],
   "source": [
    "def compute_saccade_path_lite(df:pd.DataFrame):\n",
    "    _speeds = [0]\n",
    "    _angles = [0]\n",
    "    indices = list(df.index)\n",
    "    _dura = (1 * EYE_SAMPLE_TIME ) / 1000.0\n",
    "    df[\"Screen.x\"] = df[\"Screen.x\"] * VR_SCALE\n",
    "    df[\"Screen.y\"] = df[\"Screen.y\"] * VR_SCALE\n",
    "\n",
    "    for _i in range(1, len(indices)):\n",
    "        row_1 = df.loc[indices[_i - 1], :]\n",
    "        row_2 = df.loc[indices[_i], :]\n",
    "\n",
    "        _dist = np.sqrt((row_1[\"Screen.x\"] - row_2[\"Screen.x\"])**2 + (row_1[\"Screen.y\"] - row_2[\"Screen.y\"])**2)\n",
    "        _angle = np.arctan(_dist / VR_ZDIST) / np.pi * 180\n",
    "\n",
    "        _angles.append(_angle)\n",
    "        _speeds.append(np.divide(_angle, _dura))\n",
    "\n",
    "    return _speeds, _angles"
   ]
  },
  {
   "cell_type": "markdown",
   "metadata": {},
   "source": [
    "## Trajectory Features"
   ]
  },
  {
   "cell_type": "code",
   "execution_count": 6,
   "metadata": {},
   "outputs": [],
   "source": [
    "\n",
    "def extract_saccade_features_lite(round_index, data:pd.DataFrame, ball_data_df:pd.DataFrame):\n",
    "    _fea = {}\n",
    "\n",
    "    _speeds, _angles = compute_saccade_path_lite(data)\n",
    "    _fea = {**_fea, **compute_stat(\"SaccadeSpeed\", _speeds)}\n",
    "    _fea = {**_fea, **compute_stat(\"SaccadeAngel\", _angles)}\n",
    "\n",
    "    round_start_index = ball_data_df[ball_data_df[\"round\"]==round_index].index[0]\n",
    "    round_dura = ball_data_df[ball_data_df[\"round\"]==round_index].shape[0]\n",
    "    eye_start_index = data.index[0]\n",
    "    _fea[\"SaccadeDelay\"] = (eye_start_index-round_start_index) * EYE_SAMPLE_TIME\n",
    "    _fea[\"SaccadeDelayPercent\"] = ((eye_start_index-round_start_index) / round_dura) * EYE_SAMPLE_TIME\n",
    "\n",
    "    # _fea[\"SaccadeTimeShift\"] = (np.argmax(_speeds) - (data.shape[0] // 2)) * EYE_SAMPLE_TIME\n",
    "\n",
    "    # bias_res = compute_drop_point_bias_pred(\n",
    "    #     eye_data=data,\n",
    "    #     eye_index=data.index[np.argmax(_speeds)],\n",
    "    #     ball_data=ball_data_df,\n",
    "    #     ball_round=round_index\n",
    "    # )\n",
    "    # _fea[\"SaccadeDropBiasPred_Init\"] = bias_res[0] * VR_SCALE\n",
    "    # _fea[\"SaccadeDropBiasPred_Final\"] = bias_res[1] * VR_SCALE\n",
    "\n",
    "    # bias_res = compute_drop_point_bias_delay(\n",
    "    #     eye_data=data,\n",
    "    #     eye_index=data.index[np.argmax(_speeds)],\n",
    "    #     ball_data=ball_data_df,\n",
    "    #     ball_round=round_index\n",
    "    # )\n",
    "    # _fea[\"SaccadeDropBiasDelay_Init\"] = bias_res[0] * VR_SCALE\n",
    "    # _fea[\"SaccadeDropBiasDelay_Final\"] = bias_res[1] * VR_SCALE\n",
    "    return _fea"
   ]
  },
  {
   "cell_type": "code",
   "execution_count": 7,
   "metadata": {},
   "outputs": [],
   "source": [
    "from utils import compute_dtw\n",
    "\n",
    "def extract_trajectory_lite(round_index, data:pd.DataFrame, ball_data_df):\n",
    "    _fea = {}\n",
    "    \n",
    "    _ball_df = ball_data_df[ball_data_df[\"round\"]==round_index]\n",
    "    _dtw = compute_dtw(\n",
    "            line_1=data.loc[:, [\"Screen.x\", \"Screen.y\"]],\n",
    "            line_2=_ball_df.loc[:, [\"Ball.x\", \"Ball.y\"]],\n",
    "            # scale_to_percentage=True,\n",
    "            # scale_metrics=\"start\"\n",
    "        )\n",
    "    \n",
    "    _fea[\"TrajectoryDTW\"] = _dtw\n",
    "\n",
    "    return _fea"
   ]
  },
  {
   "cell_type": "markdown",
   "metadata": {},
   "source": [
    "## Main extrat features function"
   ]
  },
  {
   "cell_type": "code",
   "execution_count": 8,
   "metadata": {},
   "outputs": [],
   "source": [
    "def extract_features_round(rounds:dict, data_df:pd.DataFrame, ball_data_df:pd.DataFrame):\n",
    "    data_df[\"frame\"] = data_df.index\n",
    "    aligned_df = interplate_and_align(data_df, ball_data_df, EYE_SAMPLE_RATE, VIDEO_FPS, convert_dist=False)\n",
    "\n",
    "    res = {}\n",
    "    for round_index, round_indices in rounds.items():\n",
    "        round_res = extract_saccade_features_lite(\n",
    "            round_index,\n",
    "            aligned_df.loc[round_indices, [\"Screen.x\", \"Screen.y\"]],\n",
    "            aligned_df.loc[:, [\"Ball.x\", \"Ball.y\", \"round\"]]\n",
    "            )\n",
    "        \n",
    "        traj_res = extract_trajectory_lite(\n",
    "            round_index,\n",
    "            aligned_df.loc[round_indices, [\"Screen.x\", \"Screen.y\"]],\n",
    "            aligned_df.loc[:, [\"Ball.x\", \"Ball.y\", \"round\"]]\n",
    "            )\n",
    "        res[round_index] = {**round_res, **traj_res}\n",
    "    return res"
   ]
  },
  {
   "cell_type": "code",
   "execution_count": 9,
   "metadata": {},
   "outputs": [],
   "source": [
    "from utils import max_circle_radius\n",
    "\n",
    "def threshold_find_match_round_dtw(eye_data:pd.DataFrame, ball_data_df:pd.DataFrame, order, scale_raw_data, mode=\"fast\", dtw_th=1, dist_th=10):\n",
    "    if mode==\"fast\":\n",
    "        rounds, dtw_res = find_match_round_dtw_kmp(eye_data_df=eye_data, ball_data_df=ball_data_df, order=order, scale_raw_data=scale_raw_data)\n",
    "    elif mode==\"greedy\":\n",
    "        rounds, dtw_res = find_match_round_dtw(eye_data_df=eye_data, ball_data_df=ball_data_df, order=order, scale_raw_data=scale_raw_data)\n",
    "\n",
    "    res = {}\n",
    "    for _round, _round_index in rounds.items():\n",
    "        if (max_circle_radius(eye_data.loc[_round_index, :]) >= dist_th) and (dtw_res[_round] <= dtw_th):\n",
    "            res[_round] = _round_index\n",
    "\n",
    "    return res"
   ]
  },
  {
   "cell_type": "code",
   "execution_count": 10,
   "metadata": {},
   "outputs": [],
   "source": [
    "def extract_features(data, ball_data):\n",
    "    data_df = pd.DataFrame(data).T\n",
    "    data_df.ffill(inplace=True)\n",
    "    data_df.bfill(inplace=True)\n",
    "\n",
    "    ball_data_df = pd.DataFrame(ball_data)\n",
    "    \n",
    "    # match_rounds = label_round_hit(data_df.loc[:, [\"Screen.x\", \"Screen.y\"]], video_id)\n",
    "\n",
    "    match_rounds = threshold_find_match_round_dtw(data_df.copy(), ball_data_df.copy(), order=0, scale_raw_data=True, mode=\"fast\")\n",
    "    # match_rounds = find_match_round_hit(data_df.loc[:, [\"Screen.x\", \"Screen.y\"]], video_id, time_range=7, dist=300)\n",
    "    saccade_features = extract_features_round(match_rounds, data_df.copy(), ball_data_df.copy())\n",
    "    \n",
    "    return saccade_features\n",
    "\n",
    "    # saccade_features = extract_saccade_features(match_rounds, data_df.loc[:, [\"Screen.x\", \"Screen.y\"]], video_id)\n",
    "    # trajectory_features = extract_trajectory(data_df.loc[:, [\"Screen.x\", \"Screen.y\"]], video_id, scale_to_percentage=True)\n",
    "\n",
    "    # return {**saccade_features, **trajectory_features}"
   ]
  },
  {
   "cell_type": "markdown",
   "metadata": {},
   "source": [
    "# Extract Features of all Participants"
   ]
  },
  {
   "cell_type": "code",
   "execution_count": 11,
   "metadata": {},
   "outputs": [],
   "source": [
    "all_people_fea = {}\n",
    "video_list= []\n",
    "for _person in all_data.keys():\n",
    "    if not _person == \"24071512_AD\": continue\n",
    "    _person_fea = {}\n",
    "\n",
    "    for _video in all_data[_person].keys():\n",
    "        # if not _video == \"p7\": continue\n",
    "        if not _video in video_list: video_list.append(_video)\n",
    "        \n",
    "        fea_res = extract_features(data=all_data[_person][_video], ball_data=ball_data[_video.split(\"_\")[0]])\n",
    "        if fea_res:\n",
    "            _person_fea[_video] = fea_res\n",
    "\n",
    "    all_people_fea[_person] = _person_fea"
   ]
  },
  {
   "cell_type": "code",
   "execution_count": 12,
   "metadata": {},
   "outputs": [],
   "source": [
    "def single_video_res(all_people_fea, video_id):\n",
    "    res = {}\n",
    "    for _p, person_fea in all_people_fea.items():\n",
    "        try:\n",
    "            for _r, _fea in person_fea[video_id].items():\n",
    "                res[f\"{_p}-{_r}\"] = _fea\n",
    "        except:\n",
    "            continue\n",
    "    return res\n"
   ]
  },
  {
   "cell_type": "code",
   "execution_count": 13,
   "metadata": {},
   "outputs": [],
   "source": [
    "def single_person_res(all_people_fea, people_id):\n",
    "    res = {}\n",
    "    for _v, video_fea in all_people_fea[people_id].items():\n",
    "        try:\n",
    "            for _r, _fea in video_fea.items():\n",
    "                res[f\"{_v}-{_r}\"] = _fea\n",
    "        except:\n",
    "            continue\n",
    "    return res"
   ]
  },
  {
   "cell_type": "code",
   "execution_count": 14,
   "metadata": {},
   "outputs": [],
   "source": [
    "person_fea = single_person_res(all_people_fea=all_people_fea, people_id=\"24071512_AD\")\n",
    "pd.DataFrame(person_fea).T.to_csv(\"24071512_AD_dtw_fast_rounds.csv\")"
   ]
  },
  {
   "cell_type": "code",
   "execution_count": 15,
   "metadata": {},
   "outputs": [
    {
     "name": "stdout",
     "output_type": "stream",
     "text": [
      "w12\n"
     ]
    },
    {
     "data": {
      "text/html": [
       "<div>\n",
       "<style scoped>\n",
       "    .dataframe tbody tr th:only-of-type {\n",
       "        vertical-align: middle;\n",
       "    }\n",
       "\n",
       "    .dataframe tbody tr th {\n",
       "        vertical-align: top;\n",
       "    }\n",
       "\n",
       "    .dataframe thead th {\n",
       "        text-align: right;\n",
       "    }\n",
       "</style>\n",
       "<table border=\"1\" class=\"dataframe\">\n",
       "  <thead>\n",
       "    <tr style=\"text-align: right;\">\n",
       "      <th></th>\n",
       "      <th>SaccadeSpeed_Mean</th>\n",
       "      <th>SaccadeSpeed_Max</th>\n",
       "      <th>SaccadeSpeed_Min</th>\n",
       "      <th>SaccadeSpeed_Std</th>\n",
       "      <th>SaccadeAngel_Mean</th>\n",
       "      <th>SaccadeAngel_Max</th>\n",
       "      <th>SaccadeAngel_Min</th>\n",
       "      <th>SaccadeAngel_Std</th>\n",
       "      <th>SaccadeDelay</th>\n",
       "      <th>SaccadeDelayPercent</th>\n",
       "      <th>TrajectoryDTW</th>\n",
       "    </tr>\n",
       "  </thead>\n",
       "  <tbody>\n",
       "    <tr>\n",
       "      <th>24071512_AD-1.0</th>\n",
       "      <td>171.719516</td>\n",
       "      <td>762.506229</td>\n",
       "      <td>0.0</td>\n",
       "      <td>270.898682</td>\n",
       "      <td>3.434390</td>\n",
       "      <td>15.250125</td>\n",
       "      <td>0.0</td>\n",
       "      <td>5.417974</td>\n",
       "      <td>1060.0</td>\n",
       "      <td>21.200000</td>\n",
       "      <td>442.116584</td>\n",
       "    </tr>\n",
       "    <tr>\n",
       "      <th>24071512_AD-2.0</th>\n",
       "      <td>507.940596</td>\n",
       "      <td>1523.821788</td>\n",
       "      <td>0.0</td>\n",
       "      <td>718.336480</td>\n",
       "      <td>10.158812</td>\n",
       "      <td>30.476436</td>\n",
       "      <td>0.0</td>\n",
       "      <td>14.366730</td>\n",
       "      <td>1460.0</td>\n",
       "      <td>28.627451</td>\n",
       "      <td>905.425931</td>\n",
       "    </tr>\n",
       "    <tr>\n",
       "      <th>24071512_AD-5.0</th>\n",
       "      <td>55.665336</td>\n",
       "      <td>444.931429</td>\n",
       "      <td>0.0</td>\n",
       "      <td>97.777255</td>\n",
       "      <td>1.113307</td>\n",
       "      <td>8.898629</td>\n",
       "      <td>0.0</td>\n",
       "      <td>1.955545</td>\n",
       "      <td>620.0</td>\n",
       "      <td>6.966292</td>\n",
       "      <td>268.773319</td>\n",
       "    </tr>\n",
       "    <tr>\n",
       "      <th>24071512_AD-9.0</th>\n",
       "      <td>196.943952</td>\n",
       "      <td>1070.342434</td>\n",
       "      <td>0.0</td>\n",
       "      <td>391.123187</td>\n",
       "      <td>3.938879</td>\n",
       "      <td>21.406849</td>\n",
       "      <td>0.0</td>\n",
       "      <td>7.822464</td>\n",
       "      <td>920.0</td>\n",
       "      <td>10.454545</td>\n",
       "      <td>643.512943</td>\n",
       "    </tr>\n",
       "  </tbody>\n",
       "</table>\n",
       "</div>"
      ],
      "text/plain": [
       "                 SaccadeSpeed_Mean  SaccadeSpeed_Max  SaccadeSpeed_Min  \\\n",
       "24071512_AD-1.0         171.719516        762.506229               0.0   \n",
       "24071512_AD-2.0         507.940596       1523.821788               0.0   \n",
       "24071512_AD-5.0          55.665336        444.931429               0.0   \n",
       "24071512_AD-9.0         196.943952       1070.342434               0.0   \n",
       "\n",
       "                 SaccadeSpeed_Std  SaccadeAngel_Mean  SaccadeAngel_Max  \\\n",
       "24071512_AD-1.0        270.898682           3.434390         15.250125   \n",
       "24071512_AD-2.0        718.336480          10.158812         30.476436   \n",
       "24071512_AD-5.0         97.777255           1.113307          8.898629   \n",
       "24071512_AD-9.0        391.123187           3.938879         21.406849   \n",
       "\n",
       "                 SaccadeAngel_Min  SaccadeAngel_Std  SaccadeDelay  \\\n",
       "24071512_AD-1.0               0.0          5.417974        1060.0   \n",
       "24071512_AD-2.0               0.0         14.366730        1460.0   \n",
       "24071512_AD-5.0               0.0          1.955545         620.0   \n",
       "24071512_AD-9.0               0.0          7.822464         920.0   \n",
       "\n",
       "                 SaccadeDelayPercent  TrajectoryDTW  \n",
       "24071512_AD-1.0            21.200000     442.116584  \n",
       "24071512_AD-2.0            28.627451     905.425931  \n",
       "24071512_AD-5.0             6.966292     268.773319  \n",
       "24071512_AD-9.0            10.454545     643.512943  "
      ]
     },
     "execution_count": 15,
     "metadata": {},
     "output_type": "execute_result"
    }
   ],
   "source": [
    "video_id = video_list[0]\n",
    "print(video_id)\n",
    "video_res = single_video_res(all_people_fea=all_people_fea, video_id=video_id)\n",
    "pd.DataFrame(video_res).T"
   ]
  },
  {
   "cell_type": "code",
   "execution_count": null,
   "metadata": {},
   "outputs": [],
   "source": []
  },
  {
   "cell_type": "code",
   "execution_count": null,
   "metadata": {},
   "outputs": [],
   "source": []
  }
 ],
 "metadata": {
  "kernelspec": {
   "display_name": "base",
   "language": "python",
   "name": "python3"
  },
  "language_info": {
   "codemirror_mode": {
    "name": "ipython",
    "version": 3
   },
   "file_extension": ".py",
   "mimetype": "text/x-python",
   "name": "python",
   "nbconvert_exporter": "python",
   "pygments_lexer": "ipython3",
   "version": "3.11.9"
  }
 },
 "nbformat": 4,
 "nbformat_minor": 2
}
