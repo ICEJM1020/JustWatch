{
 "cells": [
  {
   "cell_type": "code",
   "execution_count": null,
   "metadata": {},
   "outputs": [],
   "source": [
    "import numpy as np\n",
    "import pandas as pd\n",
    "import warnings\n",
    "warnings.filterwarnings(\"ignore\")\n",
    "\n",
    "from config import *\n",
    "from load_data import fetch_data, fetch_trajectory, fetch_player_box\n",
    "from match_rounds import find_match_round_dtw, find_match_round_dtw_kmp\n",
    "from Extractor.utils import compute_stat, interplate_and_align"
   ]
  },
  {
   "cell_type": "markdown",
   "metadata": {},
   "source": [
    "# DataLoader"
   ]
  },
  {
   "cell_type": "code",
   "execution_count": null,
   "metadata": {},
   "outputs": [],
   "source": [
    "import os\n",
    "\n",
    "file_list = os.listdir(DATA_DIR)\n",
    "file_list = list(filter(lambda x: \"AD\" in x, file_list))\n",
    "file_list"
   ]
  },
  {
   "cell_type": "code",
   "execution_count": null,
   "metadata": {},
   "outputs": [],
   "source": [
    "drop_list = ['pingpang.csv', 'tennis.csv', '.DS_Store', 'ControlGroupInfo.xlsx',]"
   ]
  },
  {
   "cell_type": "code",
   "execution_count": null,
   "metadata": {},
   "outputs": [],
   "source": [
    "all_data = fetch_data(DATA_DIR, file_list, drop_list)\n",
    "ball_data = fetch_trajectory(DATA_DIR)\n",
    "player_box_data = fetch_player_box(os.path.join(DATA_DIR, \"PlayerDetectionRes\"))"
   ]
  },
  {
   "cell_type": "markdown",
   "metadata": {},
   "source": [
    "# Feature Extraction"
   ]
  },
  {
   "cell_type": "markdown",
   "metadata": {},
   "source": [
    "## Saccade Feature"
   ]
  },
  {
   "cell_type": "code",
   "execution_count": null,
   "metadata": {},
   "outputs": [],
   "source": [
    "def compute_saccade_path_lite(df:pd.DataFrame):\n",
    "    _speeds = [0]\n",
    "    _angles = [0]\n",
    "    indices = list(df.index)\n",
    "    _dura = (1 * EYE_SAMPLE_TIME ) / 1000.0\n",
    "    df[\"Screen.x\"] = df[\"Screen.x\"] * VR_SCALE\n",
    "    df[\"Screen.y\"] = df[\"Screen.y\"] * VR_SCALE\n",
    "\n",
    "    for _i in range(1, len(indices)):\n",
    "        row_1 = df.loc[indices[_i - 1], :]\n",
    "        row_2 = df.loc[indices[_i], :]\n",
    "\n",
    "        _dist = np.sqrt((row_1[\"Screen.x\"] - row_2[\"Screen.x\"])**2 + (row_1[\"Screen.y\"] - row_2[\"Screen.y\"])**2)\n",
    "        _angle = np.arctan(_dist / VR_ZDIST) / np.pi * 180\n",
    "\n",
    "        _angles.append(_angle)\n",
    "        _speeds.append(np.divide(_angle, _dura))\n",
    "\n",
    "    return _speeds, _angles"
   ]
  },
  {
   "cell_type": "markdown",
   "metadata": {},
   "source": [
    "## Trajectory Features"
   ]
  },
  {
   "cell_type": "code",
   "execution_count": null,
   "metadata": {},
   "outputs": [],
   "source": [
    "\n",
    "def extract_saccade_features_lite(round_index, data:pd.DataFrame, ball_data_df:pd.DataFrame):\n",
    "    _fea = {}\n",
    "\n",
    "    _speeds, _angles = compute_saccade_path_lite(data)\n",
    "    _fea = {**_fea, **compute_stat(\"SaccadeSpeed\", _speeds)}\n",
    "    _fea = {**_fea, **compute_stat(\"SaccadeAngel\", _angles)}\n",
    "\n",
    "    round_start_index = ball_data_df[ball_data_df[\"round\"]==round_index].index[0]\n",
    "    round_dura = ball_data_df[ball_data_df[\"round\"]==round_index].shape[0]\n",
    "    eye_start_index = data.index[0]\n",
    "    _fea[\"SaccadeDelay\"] = (eye_start_index-round_start_index) * EYE_SAMPLE_TIME\n",
    "    _fea[\"SaccadeDelayPercent\"] = ((eye_start_index-round_start_index) / round_dura) * EYE_SAMPLE_TIME\n",
    "\n",
    "    # _fea[\"SaccadeTimeShift\"] = (np.argmax(_speeds) - (data.shape[0] // 2)) * EYE_SAMPLE_TIME\n",
    "\n",
    "    # bias_res = compute_drop_point_bias_pred(\n",
    "    #     eye_data=data,\n",
    "    #     eye_index=data.index[np.argmax(_speeds)],\n",
    "    #     ball_data=ball_data_df,\n",
    "    #     ball_round=round_index\n",
    "    # )\n",
    "    # _fea[\"SaccadeDropBiasPred_Init\"] = bias_res[0] * VR_SCALE\n",
    "    # _fea[\"SaccadeDropBiasPred_Final\"] = bias_res[1] * VR_SCALE\n",
    "\n",
    "    # bias_res = compute_drop_point_bias_delay(\n",
    "    #     eye_data=data,\n",
    "    #     eye_index=data.index[np.argmax(_speeds)],\n",
    "    #     ball_data=ball_data_df,\n",
    "    #     ball_round=round_index\n",
    "    # )\n",
    "    # _fea[\"SaccadeDropBiasDelay_Init\"] = bias_res[0] * VR_SCALE\n",
    "    # _fea[\"SaccadeDropBiasDelay_Final\"] = bias_res[1] * VR_SCALE\n",
    "    return _fea"
   ]
  },
  {
   "cell_type": "code",
   "execution_count": null,
   "metadata": {},
   "outputs": [],
   "source": [
    "from Extractor.utils import compute_dtw\n",
    "\n",
    "def extract_trajectory_lite(round_index, data:pd.DataFrame, ball_data_df):\n",
    "    _fea = {}\n",
    "    \n",
    "    _ball_df = ball_data_df[ball_data_df[\"round\"]==round_index]\n",
    "    _dtw = compute_dtw(\n",
    "            line_1=data.loc[:, [\"Screen.x\", \"Screen.y\"]],\n",
    "            line_2=_ball_df.loc[:, [\"Ball.x\", \"Ball.y\"]],\n",
    "            # scale_to_percentage=True,\n",
    "            # scale_metrics=\"start\"\n",
    "        )\n",
    "    \n",
    "    _fea[\"TrajectoryDTW\"] = _dtw\n",
    "\n",
    "    return _fea"
   ]
  },
  {
   "cell_type": "markdown",
   "metadata": {},
   "source": [
    "## Main extrat features function"
   ]
  },
  {
   "cell_type": "code",
   "execution_count": null,
   "metadata": {},
   "outputs": [],
   "source": [
    "def extract_features_round(rounds:dict, data_df:pd.DataFrame, ball_data_df:pd.DataFrame):\n",
    "    data_df[\"frame\"] = data_df.index\n",
    "    aligned_df = interplate_and_align(data_df, ball_data_df, EYE_SAMPLE_RATE, VIDEO_FPS, convert_dist=False)\n",
    "\n",
    "    res = {}\n",
    "    for round_index, round_indices in rounds.items():\n",
    "        round_res = extract_saccade_features_lite(\n",
    "            round_index,\n",
    "            aligned_df.loc[round_indices, [\"Screen.x\", \"Screen.y\"]],\n",
    "            aligned_df.loc[:, [\"Ball.x\", \"Ball.y\", \"round\"]]\n",
    "            )\n",
    "        \n",
    "        traj_res = extract_trajectory_lite(\n",
    "            round_index,\n",
    "            aligned_df.loc[round_indices, [\"Screen.x\", \"Screen.y\"]],\n",
    "            aligned_df.loc[:, [\"Ball.x\", \"Ball.y\", \"round\"]]\n",
    "            )\n",
    "        res[round_index] = {**round_res, **traj_res}\n",
    "    return res"
   ]
  },
  {
   "cell_type": "code",
   "execution_count": null,
   "metadata": {},
   "outputs": [],
   "source": [
    "from Extractor.utils import max_circle_radius\n",
    "\n",
    "def threshold_find_match_round_dtw(eye_data:pd.DataFrame, ball_data_df:pd.DataFrame, order, scale_raw_data, mode=\"fast\", dtw_th=1, dist_th=10):\n",
    "    if mode==\"fast\":\n",
    "        rounds, dtw_res = find_match_round_dtw_kmp(eye_data_df=eye_data, ball_data_df=ball_data_df, order=order, scale_raw_data=scale_raw_data)\n",
    "    elif mode==\"greedy\":\n",
    "        rounds, dtw_res = find_match_round_dtw(eye_data_df=eye_data, ball_data_df=ball_data_df, order=order, scale_raw_data=scale_raw_data)\n",
    "\n",
    "    res = {}\n",
    "    for _round, _round_index in rounds.items():\n",
    "        if (max_circle_radius(eye_data.loc[_round_index, :]) >= dist_th) and (dtw_res[_round] <= dtw_th):\n",
    "            res[_round] = _round_index\n",
    "\n",
    "    return res, rounds"
   ]
  },
  {
   "cell_type": "code",
   "execution_count": null,
   "metadata": {},
   "outputs": [],
   "source": [
    "def judge_inbox(row):\n",
    "    TOL = 0\n",
    "    _in_x = (row[\"Screen.x\"] <= row[\"RightBottom.x\"]+TOL) and (row[\"Screen.x\"] >= row[\"LeftUp.x\"]-TOL)\n",
    "    _in_y = (row[\"Screen.y\"] <= row[\"LeftUp.y\"]+TOL) and (row[\"Screen.y\"] >= row[\"RightBottom.y\"]-TOL)\n",
    "    return 1 if (_in_x and _in_y) else 0\n",
    "\n",
    "def compute_inbox_dist(row):\n",
    "    circle_x = (row[\"RightBottom.x\"] + row[\"LeftUp.x\"]) / 2\n",
    "    circle_y = (row[\"LeftUp.y\"] + row[\"RightBottom.y\"]) / 2\n",
    "    return np.sqrt((row[\"Screen.x\"] - circle_x)**2 + (row[\"Screen.y\"] - circle_y)**2) * VR_SCALE \n",
    "\n",
    "\n",
    "def extract_features_whole(eye_data:pd.DataFrame, ball_data_df:pd.DataFrame, player_box_data:dict):\n",
    "    res = {}\n",
    "    \n",
    "    p1_bbox_df = pd.DataFrame(player_box_data[\"Player-1\"])\n",
    "    p2_bbox_df = pd.DataFrame(player_box_data[\"Player-2\"])\n",
    "\n",
    "    eye_data[\"frame\"] = eye_data.index\n",
    "    # aligned_df = interplate_and_align(eye_data, ball_data_df, EYE_SAMPLE_RATE, VIDEO_FPS, convert_dist=False)\n",
    "    aligned_p1_df = interplate_and_align(eye_data, p1_bbox_df, EYE_SAMPLE_RATE, VIDEO_FPS, convert_dist=False)\n",
    "    aligned_p2_df = interplate_and_align(eye_data, p2_bbox_df, EYE_SAMPLE_RATE, VIDEO_FPS, convert_dist=False)\n",
    "\n",
    "    aligned_p1_df[\"inbox\"] = aligned_p1_df.apply(judge_inbox, axis=1)\n",
    "    aligned_p2_df[\"inbox\"] = aligned_p2_df.apply(judge_inbox, axis=1)\n",
    "    aligned_p1_df[\"box_dist\"] = aligned_p1_df.apply(compute_inbox_dist, axis=1)\n",
    "    aligned_p2_df[\"box_dist\"] = aligned_p2_df.apply(compute_inbox_dist, axis=1)\n",
    "    \n",
    "    res[\"Player1AttentionRatio\"] = aligned_p1_df[\"inbox\"].sum() / aligned_p1_df.shape[0]\n",
    "    res[\"Player2AttentionRatio\"] = aligned_p2_df[\"inbox\"].sum() / aligned_p2_df.shape[0]\n",
    "    res[\"Player1MinToCircle\"] = aligned_p1_df[\"box_dist\"].min()\n",
    "    res[\"Player2MinToCircle\"] = aligned_p2_df[\"box_dist\"].min()\n",
    "\n",
    "    return res"
   ]
  },
  {
   "cell_type": "code",
   "execution_count": null,
   "metadata": {},
   "outputs": [],
   "source": [
    "def extract_features(data, ball_data, player_box_data):\n",
    "    data_df = pd.DataFrame(data).T\n",
    "    data_df.ffill(inplace=True)\n",
    "    data_df.bfill(inplace=True)\n",
    "\n",
    "    ball_data_df = pd.DataFrame(ball_data)\n",
    "    \n",
    "    # match_rounds = label_round_hit(data_df.loc[:, [\"Screen.x\", \"Screen.y\"]], video_id)\n",
    "\n",
    "    match_rounds, rounds = threshold_find_match_round_dtw(data_df.copy(), ball_data_df.copy(), order=0, scale_raw_data=True, mode=\"fast\")\n",
    "    # match_rounds = find_match_round_hit(data_df.loc[:, [\"Screen.x\", \"Screen.y\"]], video_id, time_range=7, dist=300)\n",
    "    saccade_features = extract_features_round(match_rounds, data_df.copy(), ball_data_df.copy())\n",
    "\n",
    "    attention_features = extract_features_whole(data_df.copy(), ball_data_df.copy(), player_box_data)\n",
    "    \n",
    "    return {\n",
    "        \"match_rounds\" : match_rounds, \n",
    "        \"rounds\": rounds,\n",
    "        \"saccade_fea\": saccade_features,\n",
    "        \"attention_fea\": attention_features\n",
    "        }\n",
    "\n",
    "    # saccade_features = extract_saccade_features(match_rounds, data_df.loc[:, [\"Screen.x\", \"Screen.y\"]], video_id)\n",
    "    # trajectory_features = extract_trajectory(data_df.loc[:, [\"Screen.x\", \"Screen.y\"]], video_id, scale_to_percentage=True)\n",
    "\n",
    "    # return {**saccade_features, **trajectory_features}"
   ]
  },
  {
   "cell_type": "markdown",
   "metadata": {},
   "source": [
    "# Extract Features of all Participants"
   ]
  },
  {
   "cell_type": "code",
   "execution_count": null,
   "metadata": {},
   "outputs": [],
   "source": [
    "all_people_fea = {}\n",
    "all_people_rounds = {}\n",
    "all_people_match_rounds = {}\n",
    "video_list= []\n",
    "\n",
    "for _person in all_data.keys():\n",
    "    if not _person == \"24071512_AD\": continue\n",
    "    _person_fea = {}\n",
    "    _person_match_rounds = {}\n",
    "    _person_rounds = {}\n",
    "\n",
    "    for _video in all_data[_person].keys():\n",
    "        if not _video == \"p7\": continue\n",
    "        if not _video in video_list: video_list.append(_video)\n",
    "        \n",
    "        res = extract_features(\n",
    "                data=all_data[_person][_video], \n",
    "                ball_data=ball_data[_video.split(\"_\")[0]],\n",
    "                player_box_data=player_box_data[_video.split(\"_\")[0]]\n",
    "            )\n",
    "        \n",
    "        _person_fea[_video] = {}\n",
    "        _person_fea[_video][\"All\"] = {}\n",
    "        _person_fea[_video][\"All\"].update(res[\"attention_fea\"])\n",
    "        _person_fea[_video][\"All\"].update({\"MatchRoundRatio\" : len(res[\"match_rounds\"]) / len(res[\"rounds\"])})\n",
    "        _person_rounds[_video] = res[\"rounds\"]\n",
    "        if res[\"saccade_fea\"]:\n",
    "            _person_fea[_video].update(res[\"saccade_fea\"])\n",
    "            _person_match_rounds[_video] = res[\"match_rounds\"]\n",
    "\n",
    "    all_people_fea[_person] = _person_fea\n",
    "    all_people_rounds[_person] = _person_rounds\n",
    "    all_people_match_rounds[_person] = _person_match_rounds"
   ]
  },
  {
   "cell_type": "code",
   "execution_count": null,
   "metadata": {},
   "outputs": [],
   "source": [
    "def single_video_res(people_fea_res, video_id):\n",
    "    res = {}\n",
    "    for _p, person_fea in people_fea_res.items():\n",
    "        try:\n",
    "            for _r, _fea in person_fea[video_id].items():\n",
    "                res[f\"{_p}-{_r}\"] = _fea\n",
    "        except:\n",
    "            continue\n",
    "    return res\n"
   ]
  },
  {
   "cell_type": "code",
   "execution_count": null,
   "metadata": {},
   "outputs": [],
   "source": [
    "def single_person_res(people_fea_res, people_id):\n",
    "    res = {}\n",
    "    for _v, video_fea in people_fea_res[people_id].items():\n",
    "        try:\n",
    "            for _r, _fea in video_fea.items():\n",
    "                res[f\"{_v}-{_r}\"] = _fea\n",
    "        except:\n",
    "            continue\n",
    "    return res"
   ]
  },
  {
   "cell_type": "code",
   "execution_count": null,
   "metadata": {},
   "outputs": [],
   "source": [
    "def single_person_rounds(people_rounds_res, people_id):\n",
    "    res = {}\n",
    "    for _v, video_rounds in people_rounds_res[people_id].items():\n",
    "        try:\n",
    "            for _r, _fea in video_rounds.items():\n",
    "                res[f\"{_v}-{_r}\"] = _fea\n",
    "        except:\n",
    "            continue\n",
    "    return res"
   ]
  },
  {
   "cell_type": "code",
   "execution_count": null,
   "metadata": {},
   "outputs": [],
   "source": [
    "def single_person_match_rounds(people_match_rounds_res, people_id):\n",
    "    res = {}\n",
    "    for _v, video_rounds in people_match_rounds_res[people_id].items():\n",
    "        try:\n",
    "            for _r, _fea in video_rounds.items():\n",
    "                res[f\"{_v}-{_r}\"] = _fea\n",
    "        except:\n",
    "            continue\n",
    "    return res"
   ]
  },
  {
   "cell_type": "code",
   "execution_count": null,
   "metadata": {},
   "outputs": [],
   "source": [
    "person_fea = single_person_res(people_fea_res=all_people_fea, people_id=\"24071512_AD\")\n",
    "# pd.DataFrame(person_fea).T.to_csv(\"24071512_AD_dtw_fast_rounds.csv\")"
   ]
  },
  {
   "cell_type": "code",
   "execution_count": null,
   "metadata": {},
   "outputs": [],
   "source": [
    "video_id = video_list[0]\n",
    "print(video_id)\n",
    "video_res = single_video_res(people_fea_res=all_people_fea, video_id=video_id)\n",
    "pd.DataFrame(video_res).T"
   ]
  },
  {
   "cell_type": "markdown",
   "metadata": {},
   "source": [
    "# Save Results to Output"
   ]
  },
  {
   "cell_type": "code",
   "execution_count": null,
   "metadata": {},
   "outputs": [],
   "source": [
    "if not os.path.exists(\"output\"):\n",
    "    os.mkdir(\"output\")"
   ]
  },
  {
   "cell_type": "code",
   "execution_count": null,
   "metadata": {},
   "outputs": [],
   "source": [
    "import json\n",
    "for file in file_list:\n",
    "    if \"Test\" in file: continue\n",
    "    people_id = file.split(\".\")[0]\n",
    "    if not people_id in all_people_fea.keys(): continue\n",
    "    person_fea = single_person_res(people_fea_res=all_people_fea, people_id=people_id)\n",
    "    person_match_rounds = single_person_match_rounds(people_match_rounds_res=all_people_match_rounds, people_id=people_id)\n",
    "    person_rounds = single_person_rounds(people_rounds_res=all_people_rounds, people_id=people_id)\n",
    "\n",
    "    out_dir = f\"output/{people_id}\"\n",
    "    if not os.path.exists(out_dir):\n",
    "        os.mkdir(out_dir)\n",
    "\n",
    "    pd.DataFrame(person_fea).T.to_csv(f\"{out_dir}/dtw_fast_features.csv\")\n",
    "    with open(f\"{out_dir}/dtw_fast_rounds.json\", \"w\") as f:\n",
    "        json.dump(person_rounds, f)\n",
    "    with open(f\"{out_dir}/dtw_fast_match__rounds.json\", \"w\") as f:\n",
    "        json.dump(person_match_rounds, f)\n"
   ]
  },
  {
   "cell_type": "code",
   "execution_count": null,
   "metadata": {},
   "outputs": [],
   "source": []
  }
 ],
 "metadata": {
  "kernelspec": {
   "display_name": "base",
   "language": "python",
   "name": "python3"
  },
  "language_info": {
   "codemirror_mode": {
    "name": "ipython",
    "version": 3
   },
   "file_extension": ".py",
   "mimetype": "text/x-python",
   "name": "python",
   "nbconvert_exporter": "python",
   "pygments_lexer": "ipython3",
   "version": "3.11.9"
  }
 },
 "nbformat": 4,
 "nbformat_minor": 2
}
